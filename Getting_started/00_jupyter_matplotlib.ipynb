{
 "cells": [
  {
   "cell_type": "markdown",
   "id": "afc2df94",
   "metadata": {},
   "source": [
    "# Getting to know the Jupyter interface\n",
    "\n",
    "### Project Jupyter\n",
    "The [project Jupyter](https://jupyter.org) is a project and a community developing open-source software, open-standards, and services for interactive computing across severals programming languages (Jupyter is **Ju**lia + **Pyt**hon not**e**book + **R**).\n",
    "\n",
    "In this workshop, we will run the [jupyter lab](https://jupyterlab.readthedocs.io/en/stable) on your local machines. This should make for an easy transition from workshop material to start analysing your own data!\n",
    "\n",
    "### Matplotlib\n",
    "[Matplotlib](https://matplotlib.org) is a comprehensive python library for plotting and interactive visualizations of data."
   ]
  },
  {
   "cell_type": "markdown",
   "id": "830b2b65",
   "metadata": {},
   "source": [
    "## 1. Before Getting Started\n",
    "\n",
    "Before learning about HyperSpy, we will start by learning how to use notebook documents interactively, and we will go through the following:\n",
    "- How to use a jupyter notebook document?\n",
    "  - The difference between a jupyter notebook **application** and **document** \n",
    "  - Start/stop a jupyter notebook **application**\n",
    "  - Start/stop a **jupyter kernel**\n",
    "- How to visualise data interactively?\n",
    "  - The use of different **matplotlib backend**\n",
    "  - Change backend"
   ]
  },
  {
   "cell_type": "markdown",
   "id": "3cfd1d51-c5ca-4224-a8d9-2244c7b9daa9",
   "metadata": {},
   "source": [
    "## 2. Jupyter Notebook\n",
    "The jupyter notebook document contains cells and these can be of different types, the two main are:\n",
    "- *code* to execute code\n",
    "- *markdown* to write notes, comments, etc. For example, this current cell is of markdown type\n",
    "\n",
    "The following cell is of *code* type:"
   ]
  },
  {
   "cell_type": "code",
   "execution_count": null,
   "id": "36ee418a",
   "metadata": {
    "tags": []
   },
   "outputs": [],
   "source": [
    "print('This is a code cell, which has an input and an output')"
   ]
  },
  {
   "cell_type": "markdown",
   "id": "152512fb-d750-40e2-81c9-f6013afad23b",
   "metadata": {},
   "source": [
    "There are two modes of each cell: **Edit mode** and **Command Mode**. Note the colour changes at the border of the cells when we change modes. There are some useful shortcut keys to have in mind in each mode.\n",
    "\n",
    "For example: \n",
    "- To execute a cell in both mode: press **Shift + Enter** \n",
    "- To execute a cell and add a new one below it is **Alt + Enter**\n",
    "- To add cells above / below in **Command Mode** press a / b \n",
    "- To copy / paste: c / v or to cut / paste: x / v\n",
    "- To delete a cell use dd\n",
    "\n",
    "The execution of a code cell needs a kernel to be running. A kernel is started automatically when opening a notebook document. It can be stopped and restarted."
   ]
  },
  {
   "cell_type": "markdown",
   "id": "3a99aa91-93cb-4af4-ae5b-264cce5841f4",
   "metadata": {},
   "source": [
    "## 3. Plotting (Non-)Interactively"
   ]
  },
  {
   "cell_type": "code",
   "execution_count": null,
   "id": "4ef88969-1168-43ca-bac4-6dec54c47bce",
   "metadata": {
    "tags": []
   },
   "outputs": [],
   "source": [
    "# Import matplotlib\n",
    "import matplotlib.pyplot as plt"
   ]
  },
  {
   "cell_type": "code",
   "execution_count": null,
   "id": "298ad3e7-dd90-4d3d-a482-65bc85b705f5",
   "metadata": {
    "scrolled": true,
    "tags": []
   },
   "outputs": [],
   "source": [
    "# Plot a series of numbers\n",
    "plt.plot([0, 1, 2])"
   ]
  },
  {
   "cell_type": "markdown",
   "id": "09d7c23d",
   "metadata": {},
   "source": [
    "The plot above is clearly not interactive, because by default, matplotlib use a non-interactive backend."
   ]
  },
  {
   "cell_type": "code",
   "execution_count": null,
   "id": "e7a731fb-f969-4d54-baf6-5dabea7b3923",
   "metadata": {
    "tags": []
   },
   "outputs": [],
   "source": [
    "# Initialise the qt5 backend\n",
    "%matplotlib qt5"
   ]
  },
  {
   "cell_type": "code",
   "execution_count": null,
   "id": "eb0c5a39",
   "metadata": {
    "tags": []
   },
   "outputs": [],
   "source": [
    "plt.plot([0, 1, 2])"
   ]
  },
  {
   "cell_type": "markdown",
   "id": "287fca73",
   "metadata": {},
   "source": [
    "This last figure is now interactive, because we have initialised the `qt5` **matplotlib backend** using `%matplotlib qt5`"
   ]
  },
  {
   "cell_type": "markdown",
   "id": "bd92f8b6-3d6f-47b1-afac-2b7a2a5b6478",
   "metadata": {},
   "source": [
    "### 3.1 What is a maplotlib backend?\n",
    "\n",
    "Matplotlib can display data in many different environments and provide figures for different types of outputs: a notebook cell, a separate window, etc. The [matplotlib backend](https://matplotlib.org/stable/tutorials/introductory/usage.html#what-is-a-backend) refers to the part of matplotlib which generates a figure for a specific environment/output.\n",
    "\n",
    "Matplotlib has many [plotting backends](https://matplotlib.org/stable/tutorials/introductory/usage.html#the-builtin-backends) and the most common are:\n",
    "- `notebook` (Jupyter Notebook only)\n",
    "- `qt5`\n",
    "- `inline`\n",
    "- `widget` (Jupyter Lab and Notebook only).\n",
    "\n",
    "To initialise a specific plotting backend, we usually use an IPython magic command:\n",
    "\n",
    "```python\n",
    "%matplotlib name_of_backend\n",
    "```"
   ]
  },
  {
   "cell_type": "markdown",
   "id": "fee9204c-1ae5-492f-981a-1f61463bb600",
   "metadata": {},
   "source": [
    "The `notebook` backend will display the matplotlib figure as an notebook output and is **interactive**. It works only in the jupyter notebook application and not in the jupyter lab.\n",
    "\n",
    "**NOTE:** Only one interactive backend can be initialised for a running kernel. It is possible to switch from interactive to non-interactive backends but not between interactive backends. To switch interactive backends, it is necessary to restart the kernel."
   ]
  },
  {
   "cell_type": "markdown",
   "id": "7dc73ba9-20a9-435e-b036-303cecf72051",
   "metadata": {},
   "source": [
    "### 3.2 What matplotlib backend to use?\n",
    "\n",
    "In this workshop, we will primarily use the `qt5` backend, because this gives a fast interactive experience.\n",
    "An alternative is to use the `widget` backend, mainly to embed the graphics inside the Jupyter document to then potenatially export to a shareable format, e.g. PDF."
   ]
  },
  {
   "cell_type": "code",
   "execution_count": null,
   "id": "39b68725-5059-4209-81f8-5633db0a23c4",
   "metadata": {
    "tags": []
   },
   "outputs": [],
   "source": [
    "# If running on a remote machine, e.g. cloud platform, try to change the plotting backend to `notebook`\n",
    "%matplotlib notebook"
   ]
  },
  {
   "cell_type": "markdown",
   "id": "78c865a7",
   "metadata": {},
   "source": [
    "At this point, this is very likely, that you get an error message. If you are running locally, the error message should tell you that that you can't change backend, therefore try to restart the kernel from the menu or the top bar."
   ]
  },
  {
   "cell_type": "code",
   "execution_count": null,
   "id": "29a145f0-c9f8-4400-95d8-c383cc7da604",
   "metadata": {
    "tags": []
   },
   "outputs": [],
   "source": [
    "plt.plot([0, 1, 2])"
   ]
  },
  {
   "cell_type": "markdown",
   "id": "1b93b55a",
   "metadata": {},
   "source": [
    "If you have restarted the kernel, ran the cell above just after initialising the `qt` backend, this is very likely you get a error message! This is normal, restarting a kernel means you start from scratch: variables will need to created again and libraries imported again for the current kernel."
   ]
  },
  {
   "cell_type": "code",
   "execution_count": null,
   "id": "61a6957d-e17f-4af8-ad4c-97f997b1cc86",
   "metadata": {},
   "outputs": [],
   "source": []
  }
 ],
 "metadata": {
  "kernelspec": {
   "display_name": "Python 3 (ipykernel)",
   "language": "python",
   "name": "python3"
  },
  "language_info": {
   "codemirror_mode": {
    "name": "ipython",
    "version": 3
   },
   "file_extension": ".py",
   "mimetype": "text/x-python",
   "name": "python",
   "nbconvert_exporter": "python",
   "pygments_lexer": "ipython3",
   "version": "3.10.11"
  },
  "toc-showtags": false
 },
 "nbformat": 4,
 "nbformat_minor": 5
}
