{
 "cells": [
  {
   "cell_type": "markdown",
   "id": "9eb2f2a6",
   "metadata": {},
   "source": [
    "# Introduction to multislice simulations with abTEM\n",
    "\n",
    "This tutorial is a short introduction to image simulation with abTEM. The tutorial covers some basic principles and presents examples for CBED, HRTEM and (4D-)STEM simulations. For more in depth information, and information on other simulation modes, see the following resources:\n",
    "\n",
    "* [The abTEM walkthrough](https://abtem.readthedocs.io/en/latest/walkthrough/introduction.html)\n",
    "* [Quickstart examples](https://github.com/jacobjma/abTEM/tree/master/examples)\n",
    "* [Examples repository](https://github.com/jacobjma/abTEM/tree/master/examples)\n",
    "\n",
    "### Contents:\n",
    "\n",
    "1. <a href='#import'> Import atomic model\n",
    "2. <a href='#potentials'> Creating Potentials with the IAM\n",
    "3. <a href='#waves'> The Waves object\n",
    "4. <a href='#probes'> Creating Probe wave functions\n",
    "5. <a href='#multislice'> Multislice simulation with Probe\n",
    "6. <a href='#scan'> Scanned multislice simulation\n",
    "7. <a href='#hrtem'> HRTEM simulation\n",
    "8. <a href='#frozen_phonons'> The frozen phonon model\n",
    "9. <a href='#prism'> Large STEM simulation with PRISM\n",
    "\n",
    "### Author:\n",
    "* 20/05/2023 Jacob Madsen - For the HyperSpy workshop at ePSIC 2023"
   ]
  },
  {
   "cell_type": "code",
   "execution_count": null,
   "id": "ee5ca15d",
   "metadata": {},
   "outputs": [],
   "source": [
    "%matplotlib qt5\n",
    "\n",
    "import ase\n",
    "import numpy as np\n",
    "import matplotlib.pyplot as plt\n",
    "\n",
    "import abtem as ab\n",
    "\n",
    "np.set_printoptions(edgeitems=1)\n",
    "\n",
    "print(\"Tested with abTEM v1.0.0beta32. Your current version:\", ab.__version__)"
   ]
  },
  {
   "cell_type": "markdown",
   "id": "3841be6f",
   "metadata": {},
   "source": [
    "## Import atomic model <a id='import'></a>\n",
    "\n",
    "To start running image simulations, we need an atomic model. Creating an atomic model is covered in \"atomic_models_with_ase.ipynb\", if you do not have the file \"sto_lto.cif\", please run that notebook first."
   ]
  },
  {
   "cell_type": "code",
   "execution_count": null,
   "id": "6361c021",
   "metadata": {},
   "outputs": [],
   "source": [
    "atoms = ase.io.read(\"sto_lto.cif\")\n",
    "\n",
    "fig, (ax1, ax2) = plt.subplots(1, 2)\n",
    "ab.show_atoms(atoms, ax=ax1, plane=\"xy\", title=\"Beam view\")\n",
    "ab.show_atoms(atoms, ax=ax2, plane=\"xz\", title=\"Side view\")"
   ]
  },
  {
   "cell_type": "markdown",
   "id": "f7b8937a",
   "metadata": {},
   "source": [
    "## Creating `Potential`'s with the independent atom model <a id='potentials'></a>\n",
    "We use the indepedent atom model (IAM) to create the electrostatic potential of the sample, in this model the potential is a superposition of parametrizations of single atomic potentials. \n",
    "\n",
    "To define a `Potential`, we need to provide an ASE atoms object, a sampling rate (or pixel size) in $x$ and $y$, and a slice thickness in the $z$-direction (the propagation direction). \n",
    "\n",
    "The multislice algorithm is only accurate in the limit of thin slices, however, thin slices also increases computational cost. A sensible value for the slice thickness is typically between $0.5 \\ \\mathrm{Å}$ and $2 \\ \\mathrm{Å}$."
   ]
  },
  {
   "cell_type": "code",
   "execution_count": null,
   "id": "0022a799",
   "metadata": {},
   "outputs": [],
   "source": [
    "potential = ab.Potential(atoms, sampling=0.05, slice_thickness=2)"
   ]
  },
  {
   "cell_type": "markdown",
   "id": "a5f51aef",
   "metadata": {},
   "source": [
    "The `.build` method is available for many simulation objects. This method will convert a simulation object into a static array-based object."
   ]
  },
  {
   "cell_type": "code",
   "execution_count": null,
   "id": "285732bc",
   "metadata": {},
   "outputs": [],
   "source": [
    "potential_array = potential.build()"
   ]
  },
  {
   "cell_type": "code",
   "execution_count": null,
   "id": "411a929f-a1cc-40bb-aae3-c3e396e40651",
   "metadata": {},
   "outputs": [],
   "source": [
    "potential_array.array"
   ]
  },
  {
   "cell_type": "markdown",
   "id": "fa41a9a2-9ae6-45c7-8bd8-81dc86b2c595",
   "metadata": {},
   "source": [
    "We can show the projected potential using the `.show` method."
   ]
  },
  {
   "cell_type": "code",
   "execution_count": null,
   "id": "1d494b7b-2e37-48f8-8129-4242fd066f80",
   "metadata": {},
   "outputs": [],
   "source": [
    "potential_array.project().show(cmap=\"viridis\");"
   ]
  },
  {
   "cell_type": "markdown",
   "id": "cb1b319e",
   "metadata": {},
   "source": [
    "abTEM has some direct integration with HyperSpy. Hence, some objects can be converted directly to HyperSpy signals."
   ]
  },
  {
   "cell_type": "code",
   "execution_count": null,
   "id": "241c4fc6-824b-429b-b60d-ebf1e3b64b05",
   "metadata": {},
   "outputs": [],
   "source": [
    "potential_signal = potential_array.to_hyperspy()"
   ]
  },
  {
   "cell_type": "code",
   "execution_count": null,
   "id": "dfa71d5e",
   "metadata": {},
   "outputs": [],
   "source": [
    "potential_signal.axes_manager"
   ]
  },
  {
   "cell_type": "markdown",
   "id": "b3f01391",
   "metadata": {},
   "source": [
    "We can use the `.plot` method introduced earlier in the workshop."
   ]
  },
  {
   "cell_type": "code",
   "execution_count": null,
   "id": "132b9550",
   "metadata": {},
   "outputs": [],
   "source": [
    "potential_signal.plot(navigator=\"slider\", cmap=\"viridis\")"
   ]
  },
  {
   "cell_type": "markdown",
   "id": "1ad4bd6a",
   "metadata": {},
   "source": [
    "## Creating `Probe` wave functions <a id='probes'></a>\n",
    "\n",
    "The multislice algorithm works by propagating the $xy$ part of the wave function through the electrostatic potential along the $z$-axis. In STEM, the wave function is a focused beam of electrons. The convention used in abTEM is a probe defined by\n",
    "\n",
    "$$\n",
    "    \\phi(\\mathbf{k}, \\mathbf{r}_0) = A(k) \\exp(-i \\chi(\\mathbf{k})) \\exp(-i 2 \\pi \\mathbf{k} \\cdot \\mathbf{r}_p) \\quad ,\n",
    "$$\n",
    "\n",
    "where $\\mathbf{k} = (k_x, k_y)$ is the spatial frequency, $A(k)$ is the condenser aperture function and $\\chi(\\mathbf{k})$ is the phase error and $\\mathbf{r}_p = (x_p, y_p)$ is the probe position.\n",
    "\n",
    "If the microscope is well aligned then off-axis aberrations are small and the phase error is dominated by defocus and spherical aberration\n",
    "\n",
    "$$\n",
    "    \\chi(k) \\approx \\frac{2\\pi}{\\lambda}\\left( \\frac{\\lambda^2 k^2}{2} \\Delta f + \\frac{\\lambda^4 k^4}{4} C_s \\right) \\quad ,\n",
    "$$\n",
    "\n",
    "where $\\Delta f$ is the defocus and $C_s$ is the third order spherical aberration. See our [walkthrough section](https://abtem.readthedocs.io/en/latest/walkthrough/05_contrast_transfer_function.html) for more information.\n",
    "\n",
    "We create a probe with an energy of $200 \\ \\mathrm{keV}$, a convergence semiangle of $20 \\ \\mathrm{mrad}$, and a defocus of $50 \\ \\mathrm{Å}$.\n",
    "\n",
    "__Note__: Positive defocus is equivalent to backward free-space propagation, i.e. a probe with positive defocus is \"in focus\" inside the sample."
   ]
  },
  {
   "cell_type": "code",
   "execution_count": null,
   "id": "78a7435d",
   "metadata": {},
   "outputs": [],
   "source": [
    "probe = ab.Probe(energy=200e3, defocus=50, semiangle_cutoff=20)"
   ]
  },
  {
   "cell_type": "markdown",
   "id": "52cc8845-a4cd-4d6b-94f2-0ea581a89fac",
   "metadata": {},
   "source": [
    "We match our probe to our potential."
   ]
  },
  {
   "cell_type": "code",
   "execution_count": null,
   "id": "13296c06-8b9d-4914-8b87-b55a8b185e1e",
   "metadata": {},
   "outputs": [],
   "source": [
    "probe.grid.match(potential)"
   ]
  },
  {
   "cell_type": "markdown",
   "id": "521d4707",
   "metadata": {},
   "source": [
    "We may want to `.build` the probe to obtain an array representation."
   ]
  },
  {
   "cell_type": "code",
   "execution_count": null,
   "id": "d0679c47",
   "metadata": {},
   "outputs": [],
   "source": [
    "probe_waves = probe.build()"
   ]
  },
  {
   "cell_type": "code",
   "execution_count": null,
   "id": "6fe4508b-7da1-4e17-80b3-67259c80ab52",
   "metadata": {},
   "outputs": [],
   "source": [
    "probe_waves.array"
   ]
  },
  {
   "cell_type": "markdown",
   "id": "f88308cb",
   "metadata": {},
   "source": [
    "The wave function intensity can be shown in real or reciprocal space using the `.intensity` or `.diffraction_pattern` method and showing the resulting `Measurement`."
   ]
  },
  {
   "cell_type": "code",
   "execution_count": null,
   "id": "f0ca5deb-020c-4edf-b4a1-bcaa2719aab7",
   "metadata": {},
   "outputs": [],
   "source": [
    "fig, (ax1, ax2) = plt.subplots(1, 2)\n",
    "probe_waves.intensity().show(ax=ax1, cmap=\"viridis\")\n",
    "probe_waves.diffraction_pattern().show(ax=ax2, cmap=\"viridis\");"
   ]
  },
  {
   "cell_type": "markdown",
   "id": "aa0f485a",
   "metadata": {},
   "source": [
    "## Multislice simulation with a `Probe` (CBED) <a id='multislice'></a>\n",
    "We use the multislice algorithm to propagate the probe through the potential. We can choose where to place the probe by setting the `positions`."
   ]
  },
  {
   "cell_type": "code",
   "execution_count": null,
   "id": "3b87ec18",
   "metadata": {},
   "outputs": [],
   "source": [
    "position = (6, 6)\n",
    "\n",
    "exit_wave = probe.build(positions=position).multislice(potential)"
   ]
  },
  {
   "cell_type": "markdown",
   "id": "7f401610",
   "metadata": {},
   "source": [
    "We show the `.intensity` and `.diffraction_pattern` as above."
   ]
  },
  {
   "cell_type": "code",
   "execution_count": null,
   "id": "ea0c1e08",
   "metadata": {},
   "outputs": [],
   "source": [
    "fig, (ax1, ax2) = plt.subplots(1, 2)\n",
    "exit_wave.intensity().show(ax=ax1, cmap=\"inferno\")\n",
    "exit_wave.diffraction_pattern(max_angle=None).show(cmap=\"inferno\", power=0.5, ax=ax2);"
   ]
  },
  {
   "cell_type": "markdown",
   "id": "8acd62be-1dde-4006-8a64-6be69af169ac",
   "metadata": {},
   "source": [
    "The real-space sampling determines the maximum simulated scattering angle. The sampling defines the maximum spatial frequency $k_{max}$ via the formula:\n",
    "\n",
    "$$ k_{max} = \\frac{1}{2d} \\quad , $$\n",
    "\n",
    "where $d$ is the real-space sampling distance. To counteract aliasing artifacts due to the periodicity assumption of a discrete Fourier transform, abTEM supresses spatial frequencies above 2 / 3 of the maximum scattering angle, further reducing the maximum effective scattering angle by a factor of 2 / 3. Hence the maximum scattering angle $\\alpha_{max}$ is given by:\n",
    "\n",
    "$$ \\alpha_{max} = \\frac{2}{3}\\frac{\\lambda}{2p} \\quad , $$\n",
    "\n",
    "where $\\lambda$ is the relativistic electron wavelength. "
   ]
  },
  {
   "cell_type": "markdown",
   "id": "50838252",
   "metadata": {},
   "source": [
    "## Scanned multislice simulation (HAADF and 4D-STEM) <a id='scan'></a>\n",
    "\n",
    "Scanning imaging modes such as STEM works by rastering an electron probe across a sample pixel by pixel and recording the scattering signal. \n",
    "\n",
    "We create a grid scan and set the sampling (probe step size) to the Nyquist sampling of the probe. "
   ]
  },
  {
   "cell_type": "code",
   "execution_count": null,
   "id": "4b82bec1",
   "metadata": {},
   "outputs": [],
   "source": [
    "scan = ab.GridScan(\n",
    "    start=(0, 0),\n",
    "    end=(potential.extent[0] / 2, potential.extent[1]),\n",
    "    sampling=probe.ctf.nyquist_sampling,\n",
    ")"
   ]
  },
  {
   "cell_type": "markdown",
   "id": "71c42cbe",
   "metadata": {},
   "source": [
    "__Note__: The scan sampling should not be confused with the wave function sampling. The scan sampling in any integrated STEM imaging mode should generally be set to the Nyquist sampling rate. The image can be interpolated to the typically much higher experimental sampling rate.\n",
    "</div>\n",
    "\n",
    "In abTEM the exit waves are \"detected\" using a detector object. There are several different types of detectors, the most basic, the `AnnularDetector`, may be used for bright-field, medium- or high-angle annular dark-field microscopy. Depending on the integration region.\n",
    "\n",
    "The integration region is given by an inner and outer radius in mrad; below we create three different types of detectors. We show the integration region of the HAADF detector.\n",
    "\n",
    "The `PixelatedDetector` will detect a full diffraction pattern for each probe position."
   ]
  },
  {
   "cell_type": "code",
   "execution_count": null,
   "id": "92bf1128",
   "metadata": {},
   "outputs": [],
   "source": [
    "haadf_detector = ab.AnnularDetector(inner=80, outer=200)\n",
    "pixelated_detector = ab.PixelatedDetector()\n",
    "\n",
    "haadf_detector.show(probe);"
   ]
  },
  {
   "cell_type": "markdown",
   "id": "94611e39",
   "metadata": {},
   "source": [
    "The scanned multislice simulations are started as below, a progress bar is shown to indicate how long time the simulation will take. It takes about 60s on my 2018 Macbook."
   ]
  },
  {
   "cell_type": "code",
   "execution_count": null,
   "id": "cde5d8d1",
   "metadata": {},
   "outputs": [],
   "source": [
    "scanned_measurements = probe.scan(\n",
    "    scan=scan,\n",
    "    detectors=[haadf_detector, pixelated_detector],\n",
    "    potential=potential,\n",
    "    pbar=True,\n",
    ")\n",
    "\n",
    "haadf, pixelated = scanned_measurements"
   ]
  },
  {
   "cell_type": "markdown",
   "id": "2098d261",
   "metadata": {},
   "source": [
    "We show the measurements as earlier."
   ]
  },
  {
   "cell_type": "code",
   "execution_count": null,
   "id": "d705a6eb",
   "metadata": {},
   "outputs": [],
   "source": [
    "haadf.show(title=\"STEM-ADF [80, 200] mrad\");"
   ]
  },
  {
   "cell_type": "markdown",
   "id": "a60992cb-1009-4646-abf5-b7100e8871ae",
   "metadata": {},
   "source": [
    "We can use hyperspy to explore the 4D dataset. We have to set `min_aspect=1` since HyperSpy plots square pixels, whereas our reciprocal space sampling is highly anisotropic. "
   ]
  },
  {
   "cell_type": "code",
   "execution_count": null,
   "id": "114d33c6-93d6-4d71-9096-135fd9e5f26f",
   "metadata": {},
   "outputs": [],
   "source": [
    "pixelated.to_hyperspy().plot(min_aspect=1, cmap=\"viridis\")"
   ]
  },
  {
   "cell_type": "markdown",
   "id": "8ae27da2",
   "metadata": {},
   "source": [
    "### Post-processing simulations\n",
    "\n",
    "It is usually necessary to do some post-processing on the simulated images. In particular, we may want to resample the images. \n",
    "\n",
    "We usually also want to add a gaussian blur to simulate partial spatial coherence (i.e. source size). Partial temporal coherence (energy spread) is more costly to include and will not be covered here."
   ]
  },
  {
   "cell_type": "code",
   "execution_count": null,
   "id": "4db32b5f",
   "metadata": {},
   "outputs": [],
   "source": [
    "interpolated_maadf = haadf.interpolate(0.1).gaussian_filter(0.35)"
   ]
  },
  {
   "cell_type": "markdown",
   "id": "6762635d-dee6-4fc8-8ef8-3b9f178df296",
   "metadata": {},
   "source": [
    "We create the final image by tiling it and adding Poisson noise."
   ]
  },
  {
   "cell_type": "code",
   "execution_count": null,
   "id": "30200c66-71fc-48b6-aaea-d256d4837e2c",
   "metadata": {},
   "outputs": [],
   "source": [
    "from abtem.noise import poisson_noise\n",
    "\n",
    "noisy_maadf = poisson_noise(interpolated_maadf.tile((10, 4)), 5e4)\n",
    "noisy_maadf.show(title=\"STEM-ADF [80, 200] mrad\")"
   ]
  },
  {
   "cell_type": "markdown",
   "id": "d0f0b429-bb16-41a2-bcc7-1a18f3896ba2",
   "metadata": {},
   "source": [
    "## HRTEM simulations with `PlaneWaves`'s <a id='hrtem'></a>\n",
    "\n",
    "Running an HRTEM simulation is not very different from doing the CBED simulation. Instead of creating a `Probe`, we now create a `PlaneWave` with an energy of $200 \\ \\mathrm{keV}$."
   ]
  },
  {
   "cell_type": "code",
   "execution_count": null,
   "id": "60cd8b71-9146-4b51-bab8-a75c00a70c52",
   "metadata": {},
   "outputs": [],
   "source": [
    "plane_wave = ab.PlaneWave(energy=200e3)"
   ]
  },
  {
   "cell_type": "markdown",
   "id": "77c862f2-01b7-45ab-9047-4b95b8fdb4a5",
   "metadata": {},
   "source": [
    "We run the mulislice algorithm."
   ]
  },
  {
   "cell_type": "code",
   "execution_count": null,
   "id": "03080100-2291-440a-a139-5ae7f839f13d",
   "metadata": {},
   "outputs": [],
   "source": [
    "exit_wave = plane_wave.multislice(potential)"
   ]
  },
  {
   "cell_type": "code",
   "execution_count": null,
   "id": "1b6c129b-fe81-4970-8be2-614191125517",
   "metadata": {},
   "outputs": [],
   "source": [
    "exit_wave.show(cmap=\"viridis\")"
   ]
  },
  {
   "cell_type": "markdown",
   "id": "fe1781fa-4c1d-4bb4-86e0-f569072df9a5",
   "metadata": {},
   "source": [
    "We obtained the exit wave, we now define the aberrations and aperture of the objective lens. We set the spherical abrration $C_s = -100 \\ \\mathrm{\\mu m}$, the defocus is set to the Scherzer defocus ($\\sim - 194 \\ \\mathrm{Å}$) and the aperture is convergence semiangle is set to match the point resolution ($\\sim 20 \\ \\mathrm{mrad}$). We neglect partial coherence in this example."
   ]
  },
  {
   "cell_type": "code",
   "execution_count": null,
   "id": "2a5ac6d5-1fb3-4ea5-83a2-115a7022647f",
   "metadata": {},
   "outputs": [],
   "source": [
    "from abtem.transfer import scherzer_defocus\n",
    "\n",
    "Cs = -100e-6 * 1e10\n",
    "ctf = ab.CTF(Cs=Cs, energy=200e3)\n",
    "\n",
    "ctf.defocus = scherzer_defocus(Cs, ctf.energy)\n",
    "ctf.semiangle_cutoff = 20\n",
    "\n",
    "ctf.show()"
   ]
  },
  {
   "cell_type": "markdown",
   "id": "66c63c5d-db5f-4070-b393-f06616976d20",
   "metadata": {},
   "source": [
    "To obtain the image we apply the aberrations and aperture, then calculate the intensity. "
   ]
  },
  {
   "cell_type": "code",
   "execution_count": null,
   "id": "c61845d5-0490-4518-aa95-35e0e983bd92",
   "metadata": {},
   "outputs": [],
   "source": [
    "image = exit_wave.apply_ctf(ctf).intensity()"
   ]
  },
  {
   "cell_type": "markdown",
   "id": "ab12b284-5a60-4162-8c13-0508cb90c5c4",
   "metadata": {},
   "source": [
    "We can also tile the result and apply Poisson noise. "
   ]
  },
  {
   "cell_type": "code",
   "execution_count": null,
   "id": "faf4ed18-1bfb-4377-92dc-bd7c8f049c03",
   "metadata": {},
   "outputs": [],
   "source": [
    "noisy_image = poisson_noise(image.tile((5, 4)), 1e4)\n",
    "\n",
    "noisy_image.show(title=\"HRTEM image\")"
   ]
  },
  {
   "cell_type": "markdown",
   "id": "0ab008c8",
   "metadata": {},
   "source": [
    "## The frozen phonon model <a id='frozen_phonons'></a>\n",
    "The atoms in any real material at a particular instance of time are not exactly located at their symmetrical lattice points due to thermal vibrations. In the Frozen phonon approximation, the effects of thermal vibrations are simulated by the _intensities_ averaged over several different configurations of atoms with different random offsets. \n",
    "\n",
    "To simulate frozen phonons the `Atoms` are wrapped with a `FrozenPhonons` object. To define a `FrozenPhonons` object we also need to provide the magnitude of the thermal vibrations for each atomic species.\n",
    "\n",
    "Getting the right magnitude of thermal vibrations for a particular material, is not always trivial, here we just use the same reasonable value of $0.1 \\ \\mathrm{Å}$ for all atomic numbers. We set the number og random structures in the thermal ensemble to 8."
   ]
  },
  {
   "cell_type": "code",
   "execution_count": null,
   "id": "98cc891b",
   "metadata": {},
   "outputs": [],
   "source": [
    "frozen_phonons = ab.FrozenPhonons(atoms * (1, 1, 5), sigmas=0.1, num_configs=8)"
   ]
  },
  {
   "cell_type": "markdown",
   "id": "89e2739f",
   "metadata": {},
   "source": [
    "We can draw a particular frozen phonon configuration by iterating."
   ]
  },
  {
   "cell_type": "code",
   "execution_count": null,
   "id": "b986bf61",
   "metadata": {},
   "outputs": [],
   "source": [
    "config = next(iter(frozen_phonons))\n",
    "\n",
    "ab.show_atoms(config);"
   ]
  },
  {
   "cell_type": "markdown",
   "id": "7d1d660b",
   "metadata": {},
   "source": [
    "The potential can be created as above, we just provide the frozen phonons instead of the atoms. "
   ]
  },
  {
   "cell_type": "code",
   "execution_count": null,
   "id": "be1ebcb7",
   "metadata": {},
   "outputs": [],
   "source": [
    "frozen_phonon_potential = ab.Potential(frozen_phonons, sampling=0.05, slice_thickness=2)"
   ]
  },
  {
   "cell_type": "markdown",
   "id": "24c72410",
   "metadata": {},
   "source": [
    "The potential object can be used in the same way as above, here we do a CBED simulation, since the HAADF simulation is too time-consuming for a demo."
   ]
  },
  {
   "cell_type": "code",
   "execution_count": null,
   "id": "6bc5d450",
   "metadata": {},
   "outputs": [],
   "source": [
    "wave = ab.PlaneWave(energy=200e3)\n",
    "\n",
    "exit_wave = wave.multislice(potential=frozen_phonon_potential)"
   ]
  },
  {
   "cell_type": "markdown",
   "id": "5f1d4dda",
   "metadata": {},
   "source": [
    "The output wave function is 3d, the first dimension is the frozen phonon ensemble dimension. "
   ]
  },
  {
   "cell_type": "code",
   "execution_count": null,
   "id": "2578dda2",
   "metadata": {},
   "outputs": [],
   "source": [
    "exit_wave.array.shape"
   ]
  },
  {
   "cell_type": "markdown",
   "id": "e44d29a7",
   "metadata": {},
   "source": [
    "To finalize the diffraction pattern we take the mean over the ensemble dimension."
   ]
  },
  {
   "cell_type": "code",
   "execution_count": null,
   "id": "4c48318f-486b-4639-8ba2-ad4a6556765e",
   "metadata": {},
   "outputs": [],
   "source": [
    "mean_diffraction_pattern = exit_wave.diffraction_pattern().mean(0)"
   ]
  },
  {
   "cell_type": "markdown",
   "id": "858b5aef-e3be-4332-95c4-9dbd7f664305",
   "metadata": {},
   "source": [
    "We show the resulting diffraction pattern on a power scale."
   ]
  },
  {
   "cell_type": "code",
   "execution_count": null,
   "id": "dde6fe2d",
   "metadata": {},
   "outputs": [],
   "source": [
    "mean_diffraction_pattern.show(power=0.2, cmap=\"viridis\");"
   ]
  },
  {
   "cell_type": "markdown",
   "id": "6d36cc0e",
   "metadata": {},
   "source": [
    "__Note__: some imaging modes will average over frozen phonons by default to conserve memory."
   ]
  },
  {
   "cell_type": "markdown",
   "id": "2a2b9083",
   "metadata": {},
   "source": [
    "## Large STEM simulation with PRISM <a id='prism'></a>\n",
    "Multslice simulations of STEM images can be very slow because the scattering of the electron probe is calculated from scratch at each pixel of the image. An alternative is to use the [PRISM algorithm](https://prism-em.com). PRISM almost always provides a decent speed-up for images with many probe positions, and allows for huge speedups, at a modest cost to accuracy, by using Fourier interpolation.\n",
    "\n",
    "We import the moderately large model of a nanoparticle on carbon that was constructed in \"atomic_models_with_ase.ipynb\"."
   ]
  },
  {
   "cell_type": "code",
   "execution_count": null,
   "id": "a3c7c25a",
   "metadata": {},
   "outputs": [],
   "source": [
    "from ase.io import read\n",
    "\n",
    "cluster = read(\"cluster_on_carbon.cfg\")\n",
    "\n",
    "print(\n",
    "    \"Number of atoms: {} \\nCell: {:.2f} x {:.2f} x {:.2f}\".format(\n",
    "        len(cluster), *np.diag(cluster.cell)\n",
    "    )\n",
    ")"
   ]
  },
  {
   "cell_type": "markdown",
   "id": "62cea77b",
   "metadata": {},
   "source": [
    "In abTEM, the PRISM algorithm can be used by simply exchanging the `Probe` for the `SMatrix`. However, there is one additional keyword the user has to know about, namely interpolation.\n",
    "\n",
    "Increasing the interpolation decreases the number of plane waves necessary in the plane wave expansion of the probe, hence lowering both time and memory consumption. The necessary price is that the interpolation factor also decreases the Fourier space sampling rate, i.e. the pixels of the detected diffraction patterns becomes larger."
   ]
  },
  {
   "cell_type": "code",
   "execution_count": null,
   "id": "4b0f4335",
   "metadata": {},
   "outputs": [],
   "source": [
    "S = ab.SMatrix(interpolation=6, energy=150e3, semiangle_cutoff=25)"
   ]
  },
  {
   "cell_type": "markdown",
   "id": "8ccbd270",
   "metadata": {},
   "source": [
    "We create potential, scan and a MAADF and pixelated detector as we have done before."
   ]
  },
  {
   "cell_type": "code",
   "execution_count": null,
   "id": "9aae9edd",
   "metadata": {},
   "outputs": [],
   "source": [
    "cluster_potential = ab.Potential(cluster, gpts=512, slice_thickness=2)\n",
    "\n",
    "cluster_scan = ab.GridScan(\n",
    "    start=(0, 0), end=cluster_potential.extent, sampling=S.ctf.nyquist_sampling * 0.9\n",
    ")\n",
    "\n",
    "maadf_detector = ab.AnnularDetector(inner=60, outer=120)"
   ]
  },
  {
   "cell_type": "markdown",
   "id": "62c644f3",
   "metadata": {},
   "source": [
    "The simulation is run as before. We lower the maximum number of plane waves propagated simulataneously to lower the memory footprint slightly."
   ]
  },
  {
   "cell_type": "code",
   "execution_count": null,
   "id": "8c100bbc",
   "metadata": {},
   "outputs": [],
   "source": [
    "cluster_maadf = S.scan(\n",
    "    potential=cluster_potential,\n",
    "    scan=cluster_scan,\n",
    "    detectors=maadf_detector,\n",
    "    max_batch_expansion=10,\n",
    ")"
   ]
  },
  {
   "cell_type": "markdown",
   "id": "cadb6066",
   "metadata": {},
   "source": [
    "The simulation took around 30 seconds on my 8-core\\@2.6 GHz laptop. The same simulation is estimated to take 4 hours on the same system.\n",
    "\n",
    "Lastly, we postprocess and show the MAADF image, as we have done before."
   ]
  },
  {
   "cell_type": "code",
   "execution_count": null,
   "id": "2efffc21",
   "metadata": {},
   "outputs": [],
   "source": [
    "cluster_maadf.interpolate(0.1).gaussian_filter(0.3).show();"
   ]
  }
 ],
 "metadata": {
  "kernelspec": {
   "display_name": "Python 3 (ipykernel)",
   "language": "python",
   "name": "python3"
  },
  "language_info": {
   "codemirror_mode": {
    "name": "ipython",
    "version": 3
   },
   "file_extension": ".py",
   "mimetype": "text/x-python",
   "name": "python",
   "nbconvert_exporter": "python",
   "pygments_lexer": "ipython3",
   "version": "3.10.11"
  }
 },
 "nbformat": 4,
 "nbformat_minor": 5
}
