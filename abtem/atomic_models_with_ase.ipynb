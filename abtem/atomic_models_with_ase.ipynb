{
 "cells": [
  {
   "cell_type": "markdown",
   "id": "a5d6af69",
   "metadata": {},
   "source": [
    "# Atomic models for image simulation with ASE <a id='top'></a>\n",
    "\n",
    "This notebook introduces the Atomic Simulation Environment ([ASE](https://wiki.fysik.dtu.dk/ase/)) for creating atomic models for image simulation.\n",
    "\n",
    "ASE is a set of tools and Python modules for setting up, manipulating and visualizing atomic structures, the library is used in conjunction with a large number of atomistic simulation codes, for example [GPAW](https://wiki.fysik.dtu.dk/gpaw/) for running DFT simulations. In this notebook, ASE is introduced in the context of running electron microscopy image simulations with [abTEM](https://abtem.readthedocs.io/en/latest/index.html#). \n",
    "\n",
    "### Contents:\n",
    "\n",
    "1. <a href='#the_atoms_object'> The Atoms object\n",
    "2. <a href='#importing_structures'> Importing structures from files\n",
    "3. <a href='#visualization'> Visualization\n",
    "4. <a href='#manipulating'> Manipulating the atoms\n",
    "5. <a href='#exporting_structures'> Exporting structures to files\n",
    "6. <a href='#orthogonal'> Orthogonal and periodic supercells\n",
    "7. <a href='#nanoparticle'> Example: Nanoparticle on amorphous carbon\n",
    "\n",
    "### Author:\n",
    "* 20/05/2023 Jacob Madsen - For the HyperSpy workshop at ePSIC 2023"
   ]
  },
  {
   "cell_type": "code",
   "execution_count": null,
   "id": "6e8da5b8",
   "metadata": {
    "pycharm": {
     "name": "#%%\n"
    }
   },
   "outputs": [],
   "source": [
    "%matplotlib inline\n",
    "\n",
    "import numpy as np\n",
    "import ase\n",
    "from ase.visualize import view\n",
    "import matplotlib.pyplot as plt\n",
    "\n",
    "import abtem as ab\n",
    "\n",
    "print(\"Tested with abTEM v1.0.0beta32. Your current version:\", ab.__version__)"
   ]
  },
  {
   "cell_type": "markdown",
   "id": "a28d8176",
   "metadata": {},
   "source": [
    "##  The `Atoms` object <a id='the_atoms_object'></a>\n",
    "\n",
    "The `Atoms` object defines a collection of atoms. To define `Atoms` from scratch, we need to specify at least three things:\n",
    "\n",
    "* atomic positions\n",
    "* atomic numbers \n",
    "* a periodic cell\n",
    "\n",
    "Here, we create a basic model of the N<sub>2</sub> molecule."
   ]
  },
  {
   "cell_type": "code",
   "execution_count": null,
   "id": "a8df9627",
   "metadata": {},
   "outputs": [],
   "source": [
    "atoms = ase.Atoms(\"N2\", positions=[(0.0, 0.0, 0.0), (1.0, 0.0, 0.0)], cell=[3, 3, 3])"
   ]
  },
  {
   "cell_type": "markdown",
   "id": "829b32f8-a421-4440-9200-cdbb543bd6f8",
   "metadata": {},
   "source": [
    "__Note__: abTEM and ASE uses the same unit conventions, as defined in the `ase.units` module. Thus, electron volts (eV), Ångström (Å), and atomic mass units are defined as 1.0.\n",
    "\n",
    "We can access the corresponding properties as below."
   ]
  },
  {
   "cell_type": "code",
   "execution_count": null,
   "id": "c5a7f1eb",
   "metadata": {},
   "outputs": [],
   "source": [
    "atoms.positions"
   ]
  },
  {
   "cell_type": "code",
   "execution_count": null,
   "id": "fd8d8631",
   "metadata": {},
   "outputs": [],
   "source": [
    "atoms.numbers"
   ]
  },
  {
   "cell_type": "code",
   "execution_count": null,
   "id": "f2ecf400",
   "metadata": {},
   "outputs": [],
   "source": [
    "atoms.cell"
   ]
  },
  {
   "cell_type": "markdown",
   "id": "fd4b28db-0fc1-489e-943f-0ea42123abf9",
   "metadata": {},
   "source": [
    "The `Atoms` can be modified by directly changing the underlying NumPy arrays. Here we create NO."
   ]
  },
  {
   "cell_type": "code",
   "execution_count": null,
   "id": "5ab06094-9c6f-4226-8162-bbd3fdd31683",
   "metadata": {},
   "outputs": [],
   "source": [
    "atoms.numbers[0] = 8"
   ]
  },
  {
   "cell_type": "markdown",
   "id": "39b76328-0a20-498e-a366-46c9fbeb1d25",
   "metadata": {},
   "source": [
    "We can add an additional N atom to create nitrous oxide."
   ]
  },
  {
   "cell_type": "code",
   "execution_count": null,
   "id": "a296bc6a-7715-451a-940c-9773796d40ff",
   "metadata": {},
   "outputs": [],
   "source": [
    "atoms += ase.Atoms(\"N\", positions=[(2.0, 0, 0)])\n",
    "\n",
    "atoms"
   ]
  },
  {
   "cell_type": "markdown",
   "id": "1e2913da",
   "metadata": {},
   "source": [
    "## Visualization <a id='visualization'></a>\n",
    "\n",
    "We can visualize the atoms using the Matplotlib backend with abTEM's `show_atoms` function. This function shows a 2D projection of the structure perpendicular to a specified plane."
   ]
  },
  {
   "cell_type": "code",
   "execution_count": null,
   "id": "d9d0cf6a",
   "metadata": {},
   "outputs": [],
   "source": [
    "ab.show_atoms(atoms);"
   ]
  },
  {
   "cell_type": "markdown",
   "id": "67b273a9",
   "metadata": {},
   "source": [
    "The default ASE GUI, an interactive 3D viewer, may be started using the `view` function."
   ]
  },
  {
   "cell_type": "code",
   "execution_count": null,
   "id": "73bab343",
   "metadata": {},
   "outputs": [],
   "source": [
    "from ase.visualize import view\n",
    "\n",
    "view(atoms)"
   ]
  },
  {
   "cell_type": "markdown",
   "id": "a1ad4125",
   "metadata": {},
   "source": [
    "## Importing structures from files <a id='importing_structures'></a>\n",
    "\n",
    "ASE can import all the common atomic structure formats, see a full list [here](https://wiki.fysik.dtu.dk/ase/ase/io/io.html). Below we import a `.cif`-file defining a unit cell of strontium titanate (SrTiO<sub>3</sub>)."
   ]
  },
  {
   "cell_type": "code",
   "execution_count": null,
   "id": "4f42ab49",
   "metadata": {},
   "outputs": [],
   "source": [
    "srtio3 = ase.io.read(\"srtio3.cif\")\n",
    "\n",
    "ab.show_atoms(srtio3)"
   ]
  },
  {
   "cell_type": "code",
   "execution_count": null,
   "id": "420f70f6-ca51-4250-8361-1896d14b6cb6",
   "metadata": {},
   "outputs": [],
   "source": [
    "view(srtio3)"
   ]
  },
  {
   "cell_type": "markdown",
   "id": "14a3d97e",
   "metadata": {},
   "source": [
    "## Manipulating the atoms <a id='manipulating'></a>\n",
    "abTEM always assumes that the imaging electrons propagate along the $z$-axis in the direction from _negative to positive_ coordinate values. Hence, to choose the zone axis, we need to manipulate the atoms so they are properly aligned.\n",
    "\n",
    "ASE has a large number of tools for manipulating imported structures, so we can't cover all of them here. As an example, we will look at the `surface` function, which can be used for creating a periodic surface (aligned with the $z$-axis) with a given set of Miller indices.\n",
    "\n",
    "Here we orient the strontium titanate structure along the (110)-direction."
   ]
  },
  {
   "cell_type": "code",
   "execution_count": null,
   "id": "b0f71ca6",
   "metadata": {},
   "outputs": [],
   "source": [
    "from ase.build import surface\n",
    "\n",
    "srtio3_110 = surface(srtio3, indices=(1, 1, 0), layers=2, periodic=True)\n",
    "\n",
    "ab.show_atoms(srtio3_110, plane=\"xy\");"
   ]
  },
  {
   "cell_type": "markdown",
   "id": "761cbe83",
   "metadata": {},
   "source": [
    "Simulations may require a larger crystal, to repeat the atoms by 2 in $x$, 4 in $y$ and 10 in the $z$-direction, we just multiply the atoms."
   ]
  },
  {
   "cell_type": "code",
   "execution_count": null,
   "id": "41e43aca",
   "metadata": {},
   "outputs": [],
   "source": [
    "repeated_srtio3 = srtio3_110.copy()\n",
    "\n",
    "repeated_srtio3 *= (2, 4, 10)\n",
    "\n",
    "ab.show_atoms(repeated_srtio3, legend=True);"
   ]
  },
  {
   "cell_type": "markdown",
   "id": "6c57d3a5",
   "metadata": {},
   "source": [
    "The positions and atomic numbers are just `numpy` arrays and hence can be modified in-place. Here, we create an SrTiO<sub>3</sub>/LaTiO<sub>3</sub> interface by changing the atomic numbers of the Sr atoms with a $y$-coordinate less than $7.5 \\ \\mathrm{Å}$."
   ]
  },
  {
   "cell_type": "code",
   "execution_count": null,
   "id": "fbd928f8",
   "metadata": {},
   "outputs": [],
   "source": [
    "sto_lto = repeated_srtio3.copy()\n",
    "\n",
    "mask = sto_lto.symbols == \"Sr\"\n",
    "\n",
    "mask = mask * (sto_lto.positions[:, 1] < 7.5)\n",
    "\n",
    "sto_lto.numbers[mask] = 57"
   ]
  },
  {
   "cell_type": "markdown",
   "id": "8ea702bb",
   "metadata": {},
   "source": [
    "Next, we center the atoms in the cell and add $5 \\ \\mathrm{Å}$ of vacuum at the entrance and exit surfaces along the $z$-axis."
   ]
  },
  {
   "cell_type": "code",
   "execution_count": null,
   "id": "bfda0e1c",
   "metadata": {},
   "outputs": [],
   "source": [
    "sto_lto.center(axis=2, vacuum=5)"
   ]
  },
  {
   "cell_type": "code",
   "execution_count": null,
   "id": "e82bee94",
   "metadata": {},
   "outputs": [],
   "source": [
    "fig, (ax1, ax2) = plt.subplots(1, 2, figsize=(8, 4))\n",
    "ab.show_atoms(sto_lto, ax=ax1)\n",
    "ab.show_atoms(sto_lto, ax=ax2, plane=\"yz\");"
   ]
  },
  {
   "cell_type": "markdown",
   "id": "0a107dbc",
   "metadata": {},
   "source": [
    "## Exporting structures to files <a id='exporting_structures'></a>\n",
    "\n",
    "The structures can also be exported in all the common atomic structure formats. Here, we export the manipulated structure as `.cif`, so we can use it in the next tutorial. "
   ]
  },
  {
   "cell_type": "code",
   "execution_count": null,
   "id": "ba702810",
   "metadata": {},
   "outputs": [],
   "source": [
    "from ase.io import write\n",
    "\n",
    "write(\"sto_lto.cif\", sto_lto)"
   ]
  },
  {
   "cell_type": "markdown",
   "id": "d60ff25c",
   "metadata": {},
   "source": [
    "## Orthogonal and periodic supercells <a id='orthogonal'></a>\n",
    "\n",
    "The multislice algorithm requires an orthogonal periodic atomic structure as its input. However, taking any arbitrary structure and making it periodic and orthogonal is not always trivial. abTEM has a tool for solving this problem.\n",
    "\n",
    "To demonstrate the tool, we create a graphene structure with the minimal hexagonal unit cell. "
   ]
  },
  {
   "cell_type": "code",
   "execution_count": null,
   "id": "4c6eff22",
   "metadata": {},
   "outputs": [],
   "source": [
    "graphene = ase.build.graphene()\n",
    "\n",
    "ab.show_atoms(graphene);"
   ]
  },
  {
   "cell_type": "markdown",
   "id": "0ab0f626",
   "metadata": {},
   "source": [
    "Applying `orthogonalize_cell` we find the smallest orthogonal version of a cell. "
   ]
  },
  {
   "cell_type": "code",
   "execution_count": null,
   "id": "daa2fe94",
   "metadata": {},
   "outputs": [],
   "source": [
    "from abtem.structures import orthogonalize_cell\n",
    "\n",
    "orthogonal_graphene = orthogonalize_cell(graphene)\n",
    "\n",
    "ab.show_atoms(orthogonal_graphene);"
   ]
  },
  {
   "cell_type": "markdown",
   "id": "23f6bff6",
   "metadata": {},
   "source": [
    "The problem of creating orthogonal cells is not always as trivial for graphene. For those interested in more advanced uses of the `orthogonalize_cell` function, we have a [tutorial](https://abtem.readthedocs.io/en/latest/tutorials/orthogonal_cells.html) dedicated to the subject."
   ]
  },
  {
   "cell_type": "markdown",
   "id": "04d2b6a3",
   "metadata": {},
   "source": [
    "## Nanoparticle on amorphous carbon <a id='nanoparticle'></a>\n",
    "\n",
    "We finish with a slightly more advanced example, we create a model of a coppper nanoparticle on amorphous carbon. \n",
    "\n",
    "A rough model of the carbon substrate is created by taking a diamond crystal and randomly displacing the atoms. The [`bulk`](https://wiki.fysik.dtu.dk/ase/ase/build/build.html#common-bulk-crystals) function can create common bulk crystal structures. "
   ]
  },
  {
   "cell_type": "code",
   "execution_count": null,
   "id": "c02186b6",
   "metadata": {},
   "outputs": [],
   "source": [
    "from ase.build import bulk\n",
    "\n",
    "carbon = bulk(\"C\", cubic=True)\n",
    "\n",
    "carbon *= (14, 14, 14)\n",
    "\n",
    "carbon.positions[:] += (\n",
    "    np.random.randn(len(carbon), 3) * 0.5\n",
    ")  # displace atoms with a standard deviation of .5 Å\n",
    "\n",
    "carbon.wrap()"
   ]
  },
  {
   "cell_type": "markdown",
   "id": "071086af",
   "metadata": {},
   "source": [
    "ASE has modules for procedurally generating special structures such as [carbon nanotubes](https://wiki.fysik.dtu.dk/ase/ase/build/build.html#nanotubes) and [nanoparticles](https://wiki.fysik.dtu.dk/ase/ase/cluster/cluster.html). Here, we will use the `Decahedron` function to create a Decahedral gold nanoparticle. The nanoparticle is then rotated 30 degrees around the $x$-axis."
   ]
  },
  {
   "cell_type": "code",
   "execution_count": null,
   "id": "d210111e",
   "metadata": {},
   "outputs": [],
   "source": [
    "from ase.cluster import Decahedron\n",
    "\n",
    "cluster = Decahedron(\n",
    "    \"Cu\",\n",
    "    10,  # Number of atoms on the facets perpendicular to the five fold axis.\n",
    "    2,  # Number of atoms on the facets parallel to the five fold axis.\n",
    "    0,  # Depth of re-entrence at the pentagon corners.\n",
    ")\n",
    "\n",
    "cluster.rotate(\"x\", 30)"
   ]
  },
  {
   "cell_type": "markdown",
   "id": "63f1bba8",
   "metadata": {},
   "source": [
    "The nanoparticle is moved to the top center of the carbon structure using the `.translate` method."
   ]
  },
  {
   "cell_type": "code",
   "execution_count": null,
   "id": "ab95e8df",
   "metadata": {},
   "outputs": [],
   "source": [
    "center_height = 30\n",
    "\n",
    "translated_cluster = cluster.copy()\n",
    "\n",
    "translated_cluster.translate(np.diag(carbon.cell) / 2 + (0, 0, center_height))"
   ]
  },
  {
   "cell_type": "markdown",
   "id": "87fff0ef",
   "metadata": {},
   "source": [
    "The nanoparticle and amourphous substrate is combined in a single model by simply adding them together."
   ]
  },
  {
   "cell_type": "code",
   "execution_count": null,
   "id": "5cc79ee9",
   "metadata": {},
   "outputs": [],
   "source": [
    "cluster_on_carbon = carbon + translated_cluster"
   ]
  },
  {
   "cell_type": "markdown",
   "id": "8e96506e",
   "metadata": {},
   "source": [
    "Then the combined structure is centered along the $z$-axis, and the supercell is adjusted such that there is a vacuum of $4 \\ \\mathrm{Å}$ on the top and bottom of the model."
   ]
  },
  {
   "cell_type": "code",
   "execution_count": null,
   "id": "42100f3f",
   "metadata": {},
   "outputs": [],
   "source": [
    "cluster_on_carbon.center(axis=2, vacuum=4)"
   ]
  },
  {
   "cell_type": "code",
   "execution_count": null,
   "id": "23be3b19-5ea2-4ac5-8f7b-c2f200b5fd48",
   "metadata": {},
   "outputs": [],
   "source": [
    "fig, (ax1, ax2) = plt.subplots(1, 2, figsize=(10, 4))\n",
    "\n",
    "ab.show_atoms(cluster_on_carbon, plane=\"yx\", ax=ax1)\n",
    "ab.show_atoms(cluster_on_carbon, plane=\"xz\", ax=ax2)"
   ]
  },
  {
   "cell_type": "markdown",
   "id": "5dd84be6",
   "metadata": {},
   "source": [
    "Finally, the model is written to disk."
   ]
  },
  {
   "cell_type": "code",
   "execution_count": null,
   "id": "2002502b",
   "metadata": {},
   "outputs": [],
   "source": [
    "write(\"cluster_on_carbon.cfg\", cluster_on_carbon)"
   ]
  }
 ],
 "metadata": {
  "kernelspec": {
   "display_name": "hyperspy_env",
   "language": "python",
   "name": "hyperspy_env"
  },
  "language_info": {
   "codemirror_mode": {
    "name": "ipython",
    "version": 3
   },
   "file_extension": ".py",
   "mimetype": "text/x-python",
   "name": "python",
   "nbconvert_exporter": "python",
   "pygments_lexer": "ipython3",
   "version": "3.10.11"
  }
 },
 "nbformat": 4,
 "nbformat_minor": 5
}
